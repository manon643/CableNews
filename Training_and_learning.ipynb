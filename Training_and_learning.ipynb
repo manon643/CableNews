{
 "cells": [
  {
   "cell_type": "code",
   "execution_count": 1,
   "metadata": {},
   "outputs": [],
   "source": [
    "import numpy as np\n",
    "import tensorflow as tf\n",
    "import matplotlib.pyplot as plt\n",
    "%matplotlib inline"
   ]
  },
  {
   "cell_type": "code",
   "execution_count": 2,
   "metadata": {},
   "outputs": [],
   "source": [
    "class datagen():\n",
    "    def __init__(self, data):\n",
    "        self.data = data\n",
    "        self.n_classes = 13\n",
    "        \n",
    "        self.size = self.data.shape[0]\n",
    "        self.pointer = 0 # initial pointer\n",
    "        self.batchsize = 512\n",
    "        self.epoch = 0\n",
    "    def get_batch(self):\n",
    "        if self.pointer + self.batchsize > self.size:\n",
    "            batchsize = self.size - self.pointer\n",
    "            start = self.pointer\n",
    "            end = self.size - 1\n",
    "            self.pointer = 0\n",
    "            self.epoch += 1\n",
    "            self.shuffle()\n",
    "        else:\n",
    "            batchsize = self.batchsize\n",
    "            start = self.pointer\n",
    "            end = self.pointer + batchsize\n",
    "            self.pointer += batchsize\n",
    "            \n",
    "        X = self.data[start:end, :-1]\n",
    "        y = np.array(self.data[start:end, -1])\n",
    "        Y = np.zeros((y.shape[0], self.n_classes))\n",
    "        Y[np.arange(y.size),y.astype(int)] = 1\n",
    "        Y = Y.astype(int)\n",
    "        return X, Y, y\n",
    "    def get_epoch(self):\n",
    "        return self.epoch\n",
    "    def reset(self):\n",
    "        self.epoch = 0\n",
    "    def shuffle(self):\n",
    "        np.random.shuffle(self.data)"
   ]
  },
  {
   "cell_type": "code",
   "execution_count": 3,
   "metadata": {},
   "outputs": [],
   "source": [
    "class classifer():\n",
    "    def __init__(self):\n",
    "        self.lr = 5 * 1e-4\n",
    "        self.n_classes = 13\n",
    "        \n",
    "        self.make_placeholders()\n",
    "        self.make_nn()\n",
    "        self.make_loss()\n",
    "        self.make_train_op()\n",
    "        \n",
    "        self.sess = tf.Session()\n",
    "        self.sess.run(tf.initializers.global_variables())\n",
    "        \n",
    "        self.saver = tf.train.Saver()\n",
    "        \n",
    "    def save(self):\n",
    "        self.saver.save(self.sess, 'nn-classifier-v2')\n",
    "        \n",
    "    def load(self, name):\n",
    "        self.saver.restore(self.sess, name)\n",
    "        \n",
    "    def make_placeholders(self):\n",
    "        self.input = tf.placeholder(tf.float32, shape=[None, 4096], name='X')\n",
    "        self.label = tf.placeholder(tf.int32, shape=[None, self.n_classes], name='label')\n",
    "        \n",
    "    def make_nn(self):\n",
    "        X = tf.layers.dense(self.input, 512, activation=tf.nn.relu,\n",
    "                              kernel_initializer=tf.keras.initializers.glorot_normal(), name='Dense_1')\n",
    "        X = tf.layers.dense(X, 512, activation=tf.nn.relu,\n",
    "                              kernel_initializer=tf.keras.initializers.glorot_normal(), name='Dense_2')\n",
    "        X = tf.layers.dense(X, 512, activation=tf.nn.relu,\n",
    "                              kernel_initializer=tf.keras.initializers.glorot_normal(), name='Dense_3')\n",
    "        X = tf.layers.dense(X, 512, activation=tf.nn.relu,\n",
    "                              kernel_initializer=tf.keras.initializers.glorot_normal(), name='Dense_4')\n",
    "        self.logit = tf.layers.dense(X, self.n_classes, activation=None,\n",
    "                              kernel_initializer=tf.keras.initializers.glorot_normal(), name='logits')\n",
    "        \n",
    "        self.prediction = tf.nn.softmax(self.logit)\n",
    "        \n",
    "    def make_loss(self):\n",
    "        self.loss = tf.reduce_mean(tf.nn.softmax_cross_entropy_with_logits_v2(self.label, self.logit))\n",
    "    \n",
    "    def make_train_op(self):\n",
    "        self.optimizer = tf.train.AdamOptimizer(self.lr)\n",
    "        self.train_op = self.optimizer.minimize(self.loss)\n",
    "    \n",
    "    def train(self, X, Y):\n",
    "        loss, _ = self.sess.run([self.loss, self.train_op], feed_dict={self.input:X, self.label:Y})\n",
    "        return loss\n",
    "    \n",
    "    def predict(self, X):\n",
    "        prediction = self.sess.run([self.prediction], feed_dict={self.input:X})\n",
    "        return prediction"
   ]
  },
  {
   "cell_type": "code",
   "execution_count": 251,
   "metadata": {},
   "outputs": [],
   "source": [
    "all_data = np.load('data/np_array/all.npy')\n",
    "idx = int(all_data.shape[0] * 0.9)\n",
    "train = datagen(all_data[:idx, :])\n",
    "test = datagen(all_data[idx:, :])"
   ]
  },
  {
   "cell_type": "code",
   "execution_count": 4,
   "metadata": {},
   "outputs": [
    {
     "name": "stdout",
     "output_type": "stream",
     "text": [
      "WARNING:tensorflow:From <ipython-input-3-8785c3d86c1b>:28: dense (from tensorflow.python.layers.core) is deprecated and will be removed in a future version.\n",
      "Instructions for updating:\n",
      "Use keras.layers.Dense instead.\n",
      "WARNING:tensorflow:From /usr/local/lib/python3.7/site-packages/tensorflow_core/python/layers/core.py:187: Layer.apply (from tensorflow.python.keras.engine.base_layer) is deprecated and will be removed in a future version.\n",
      "Instructions for updating:\n",
      "Please use `layer.__call__` method instead.\n"
     ]
    }
   ],
   "source": [
    "tf.reset_default_graph()\n",
    "NN = classifer()"
   ]
  },
  {
   "cell_type": "code",
   "execution_count": 253,
   "metadata": {
    "scrolled": false
   },
   "outputs": [
    {
     "name": "stdout",
     "output_type": "stream",
     "text": [
      "Itereation: 1000, Accuracy: 0.733931\n",
      "Itereation: 2000, Accuracy: 0.741806\n",
      "Itereation: 3000, Accuracy: 0.750073\n",
      "Itereation: 4000, Accuracy: 0.756005\n",
      "Itereation: 5000, Accuracy: 0.758889\n",
      "Itereation: 6000, Accuracy: 0.762083\n",
      "Itereation: 7000, Accuracy: 0.7635\n",
      "Itereation: 8000, Accuracy: 0.764294\n",
      "Itereation: 9000, Accuracy: 0.764578\n",
      "Itereation: 10000, Accuracy: 0.765386\n",
      "Itereation: 12000, Accuracy: 0.765972\n",
      "Itereation: 13000, Accuracy: 0.766449\n",
      "Itereation: 14000, Accuracy: 0.766029\n",
      "Itereation: 15000, Accuracy: 0.766571\n",
      "Itereation: 16000, Accuracy: 0.766982\n",
      "Itereation: 17000, Accuracy: 0.767112\n"
     ]
    },
    {
     "data": {
      "text/plain": [
       "[<matplotlib.lines.Line2D at 0x1437b6470>]"
      ]
     },
     "execution_count": 253,
     "metadata": {},
     "output_type": "execute_result"
    },
    {
     "data": {
      "image/png": "[encoded data removed]",
      "text/plain": [
       "<Figure size 864x504 with 2 Axes>"
      ]
     },
     "metadata": {
      "needs_background": "light"
     },
     "output_type": "display_data"
    }
   ],
   "source": [
    "total_loss = []\n",
    "total_accuracy = []\n",
    "test.reset(); train.reset()\n",
    "it = 0\n",
    "while train.get_epoch() < 200:\n",
    "    it += 1\n",
    "    X, Y, _ = train.get_batch()\n",
    "    if X.shape[0] < 256:\n",
    "        continue\n",
    "    loss = NN.train(X, Y)\n",
    "    total_loss.append(loss)\n",
    "    if it%100 == 0:\n",
    "        X, Y, y = test.get_batch()\n",
    "        predict = NN.predict(X)\n",
    "        accuracy = np.sum(y == np.argmax(predict, axis=-1))/Y.shape[0]\n",
    "        total_accuracy.append(accuracy)\n",
    "        if  it %1000 == 0:\n",
    "            print(\"Itereation: %d, Accuracy: %g\"%(it, np.mean(total_accuracy)))\n",
    "plt.figure(figsize=(12, 7))\n",
    "plt.subplot(1,2,1)\n",
    "plt.plot(total_loss)\n",
    "plt.subplot(1,2,2)\n",
    "plt.plot(total_accuracy)"
   ]
  },
  {
   "cell_type": "code",
   "execution_count": 6,
   "metadata": {},
   "outputs": [
    {
     "name": "stdout",
     "output_type": "stream",
     "text": [
      "INFO:tensorflow:Restoring parameters from nn-classifier-v2\n"
     ]
    }
   ],
   "source": [
    "#NN.save()\n",
    "NN.load('nn-classifier-v2')"
   ]
  },
  {
   "cell_type": "code",
   "execution_count": 7,
   "metadata": {},
   "outputs": [],
   "source": [
    "# import stuff\n",
    "%load_ext autoreload\n",
    "%autoreload 2\n",
    "\n",
    "from random import randint\n",
    "\n",
    "import numpy as np\n",
    "import torch"
   ]
  },
  {
   "cell_type": "code",
   "execution_count": 8,
   "metadata": {},
   "outputs": [
    {
     "data": {
      "text/plain": [
       "<All keys matched successfully>"
      ]
     },
     "execution_count": 8,
     "metadata": {},
     "output_type": "execute_result"
    }
   ],
   "source": [
    "# Load model\n",
    "from InferSent.models import InferSent\n",
    "model_version = 1\n",
    "MODEL_PATH = \"InferSent/encoder/infersent%s.pkl\" % model_version\n",
    "params_model = {'bsize': 64, 'word_emb_dim': 300, 'enc_lstm_dim': 2048,\n",
    "                'pool_type': 'max', 'dpout_model': 0.0, 'version': model_version}\n",
    "model = InferSent(params_model)\n",
    "model.load_state_dict(torch.load(MODEL_PATH))"
   ]
  },
  {
   "cell_type": "code",
   "execution_count": 9,
   "metadata": {},
   "outputs": [
    {
     "name": "stdout",
     "output_type": "stream",
     "text": [
      "Vocab size : 100000\n"
     ]
    }
   ],
   "source": [
    "# Keep it on CPU or put it on GPU\n",
    "use_cuda = False\n",
    "model = model.cuda() if use_cuda else model\n",
    "\n",
    "# If infersent1 -> use GloVe embeddings. If infersent2 -> use InferSent embeddings.\n",
    "W2V_PATH = 'InferSent/GloVe/glove.840B.300d.txt' if model_version == 1 else 'InferSent/fastText/crawl-300d-2M.vec'\n",
    "model.set_w2v_path(W2V_PATH)\n",
    "\n",
    "# Load embeddings of K most frequent words\n",
    "model.build_vocab_k_words(K=100000)"
   ]
  },
  {
   "cell_type": "code",
   "execution_count": 258,
   "metadata": {},
   "outputs": [],
   "source": [
    "def embedSentence(text):\n",
    "    embeddings = model.encode([text], bsize=128, tokenize=True, verbose=True)\n",
    "    return embeddings"
   ]
  },
  {
   "cell_type": "code",
   "execution_count": 42,
   "metadata": {},
   "outputs": [
    {
     "name": "stdout",
     "output_type": "stream",
     "text": [
      "Nb words kept : 188/190 (98.9%)\n",
      "Speed : 8.7 sentences/s (cpu mode, bsize=128)\n"
     ]
    }
   ],
   "source": [
    "Samples = ['Joe Biden will run for president and he is gonna lose so badly',\n",
    "          'Scientist said we have no time to react, it is getting warmer, and weather is going to change the world',\n",
    "          'Last night, someone got shot in Walmart, Beto has raised the issue to congress',\n",
    "          'I think I have a nice skin, and you know what, France is going to invest on that, better cosmetics',\n",
    "          'Attacking ISIS has been ordered by Donal Trump and US military',\n",
    "          'Gas price went up as a result of stock rise',\n",
    "          'I am sick as Fuck, insurance prices are high',\n",
    "          'Big pharma is taking away peoples money, we need Bernie',\n",
    "          'So you think France has a bad economy, Trump is going to send financial aid',\n",
    "          '16 poeple reported dead on california fire that burned the forests',\n",
    "          'Steve Ballmare bought LA Lakers in NBA']\n",
    "\n",
    "Sample_embed = model.encode(Samples, bsize=128, tokenize=True, verbose=True)\n",
    "\n",
    "Ticks = np.array(['Other', 'Politics', 'Media', 'Fashion', 'Foreign Policy', 'Immigration', \n",
    "         'Economy', 'Health', 'Art', 'Gender', 'Sport', 'Violence', 'Climate'])"
   ]
  },
  {
   "cell_type": "code",
   "execution_count": 43,
   "metadata": {},
   "outputs": [
    {
     "name": "stdout",
     "output_type": "stream",
     "text": [
      "['Politics' 'Other'] [99.543396   0.4348476]\n",
      "['Climate' 'Other'] [9.9957794e+01 3.3542786e-02]\n",
      "['Violence' 'Immigration'] [78.71664  12.532372]\n",
      "['Other' 'Fashion'] [9.9999153e+01 8.4058684e-04]\n",
      "['Politics' 'Other'] [1.0000000e+02 8.2047995e-09]\n",
      "['Economy' 'Health'] [99.779945    0.12434642]\n",
      "['Health' 'Politics'] [9.9999443e+01 5.6079804e-04]\n",
      "['Politics' 'Other'] [9.983525e+01 7.411286e-02]\n",
      "['Economy' 'Politics'] [98.85014    1.1111943]\n",
      "['Climate' 'Other'] [95.08835   4.910608]\n",
      "['Sport' 'Other'] [9.9910576e+01 8.9413956e-02]\n",
      "['Other' 'Art'] [80.84186  18.801943]\n"
     ]
    }
   ],
   "source": [
    "probs = NN.predict(Sample_embed)[0]\n",
    "for i in range(probs.shape[0]):\n",
    "    print(Ticks[np.flip(np.argsort(probs[i, :])[-2:])], np.flip(np.sort(probs[i, :])[-2:]) * 100)"
   ]
  },
  {
   "cell_type": "code",
   "execution_count": null,
   "metadata": {},
   "outputs": [],
   "source": []
  }
 ],
 "metadata": {
  "kernelspec": {
   "display_name": "Python 3",
   "language": "python",
   "name": "python3"
  },
  "language_info": {
   "codemirror_mode": {
    "name": "ipython",
    "version": 3
   },
   "file_extension": ".py",
   "mimetype": "text/x-python",
   "name": "python",
   "nbconvert_exporter": "python",
   "pygments_lexer": "ipython3",
   "version": "3.7.3"
  }
 },
 "nbformat": 4,
 "nbformat_minor": 2
}
