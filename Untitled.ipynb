{
 "cells": [
  {
   "cell_type": "code",
   "execution_count": 2,
   "metadata": {},
   "outputs": [],
   "source": [
    "from data_for_ramtin import *"
   ]
  },
  {
   "cell_type": "code",
   "execution_count": 5,
   "metadata": {},
   "outputs": [
    {
     "name": "stdout",
     "output_type": "stream",
     "text": [
      "Lexicon loaded\n",
      "Stop words {'at', 'an', 'whole', 'due', 'to', 'would', '‘m', 'anyway', 'yourselves', 'less', 'each', '’s', 'up', 'amount', 'sometime', 'four', 'therefore', 'full', 'through', 'empty', 'around', 'yours', 'well', 'ever', 'why', 'others', 'against', 'by', 'themselves', 'rather', 'sometimes', \"'ve\", 'may', 'off', 'above', 'whereupon', 'them', 'along', 'must', 'his', 'even', 'who', 'both', 'everything', 'whenever', 'yourself', 'make', 'five', 'among', 'same', 'beforehand', 'formerly', 'either', \"'re\", 'thru', 'below', 'side', 'although', 'himself', 'somehow', 'seemed', 'serious', 'such', 'every', 'front', 'whether', 'after', 'amongst', '’ve', 'once', 'before', 'since', 'becoming', 'another', 'did', 'becomes', 'is', 'thence', 'those', '‘ve', 'two', 'could', 'afterwards', 'become', 'always', 'elsewhere', 'during', 'beyond', 'one', 'only', 'whence', 'thus', 'beside', 'please', 'anyone', 'hundred', 'often', 'i', 'towards', '’d', 'everywhere', 'go', 'then', '’ll', 'but', '’re', 'ten', 'top', 'more', 'much', 'whereby', 'together', 'fifty', 'cannot', 'someone', 'because', 'moreover', 'me', 'further', 'regarding', 'of', 'ours', 'about', 'nine', 'though', 'put', 're', 'various', 'should', 'n‘t', 'everyone', 'indeed', 'their', 'thereby', 'namely', 'as', 'using', 'seem', 'sixty', 'which', 'any', 'see', '‘ll', 'whereafter', 'under', 'many', 'into', 'own', 'you', 'was', 'eight', 'besides', 'be', 'forty', 'until', 'none', 'three', 'nevertheless', '‘d', 'are', 'with', 'via', 'nobody', 'six', 'this', 'also', '‘s', 'your', 'he', 'we', 'without', 'eleven', 'us', 'fifteen', 'out', 'were', 'within', 'and', 'while', 'neither', 'get', 'whereas', 'here', 'how', 'its', 'really', 'nor', 'the', 'from', 'therein', 'will', 'n’t', 'toward', 'former', 'in', \"'s\", 'had', 'latter', 'last', 'name', 'thereafter', 'anyhow', 'wherein', 'across', 'per', 'between', 'take', 'nowhere', 'something', 'bottom', 'hereafter', 'hers', 'behind', 'never', 'back', 'somewhere', 'next', 'wherever', 'otherwise', 'seeming', 'already', 'down', 'several', 'they', 'some', 'nothing', \"'ll\", 'alone', 'too', 'latterly', 'became', 'thereupon', 'can', 'these', 'almost', 'enough', 'other', 'onto', 'still', 'very', 'whom', 'third', 'hereby', 'she', 'unless', \"'d\", 'twenty', 'move', 'anywhere', '‘re', 'least', 'perhaps', 'herein', 'used', 'being', 'no', 'keep', 'most', 'itself', 'upon', 'else', 'first', \"n't\", 'show', 'or', 'on', 'few', 'him', 'a', 'except', 'if', 'have', 'doing', 'hereupon', \"'m\", 'mine', 'herself', 'whatever', 'mostly', 'where', 'call', 'however', 'anything', 'throughout', 'ca', 'so', 'yet', 'whose', 'made', 'hence', 'myself', 'give', 'ourselves', 'do', 'noone', 'am', 'say', 'for', 'just', 'her', 'has', 'than', 'not', 'quite', 'there', 'been', 'again', 'when', 'whither', 'over', 'what', 'done', 'now', 'that', 'does', 'our', 'seems', 'meanwhile', 'it', 'twelve', 'part', 'my', 'all', '’m', 'whoever', 'might'}\n",
      "  0%|                                                    | 0/10 [00:00<?, ?it/s]Not found\n",
      "timeline done\n",
      "timeline done\n",
      " 20%|████████▊                                   | 2/10 [00:04<00:19,  2.45s/it]timeline done\n",
      " 30%|█████████████▏                              | 3/10 [00:05<00:12,  1.79s/it]timeline done\n",
      " 40%|█████████████████▌                          | 4/10 [00:05<00:07,  1.33s/it]timeline done\n",
      " 50%|██████████████████████                      | 5/10 [00:05<00:04,  1.02it/s]timeline done\n",
      " 60%|██████████████████████████▍                 | 6/10 [00:05<00:02,  1.34it/s]timeline done\n",
      " 70%|██████████████████████████████▊             | 7/10 [00:05<00:01,  1.70it/s]timeline done\n",
      " 80%|███████████████████████████████████▏        | 8/10 [00:06<00:00,  2.15it/s]timeline done\n",
      "timeline done\n",
      "100%|███████████████████████████████████████████| 10/10 [00:06<00:00,  1.58it/s]\n"
     ]
    }
   ],
   "source": [
    "!python3 data_for_ramtin.py /Users/ramtinkeramati/Desktop/files/CableNews"
   ]
  },
  {
   "cell_type": "code",
   "execution_count": null,
   "metadata": {},
   "outputs": [],
   "source": []
  }
 ],
 "metadata": {
  "kernelspec": {
   "display_name": "Python 3",
   "language": "python",
   "name": "python3"
  },
  "language_info": {
   "codemirror_mode": {
    "name": "ipython",
    "version": 3
   },
   "file_extension": ".py",
   "mimetype": "text/x-python",
   "name": "python",
   "nbconvert_exporter": "python",
   "pygments_lexer": "ipython3",
   "version": "3.7.3"
  }
 },
 "nbformat": 4,
 "nbformat_minor": 2
}
