{
 "cells": [
  {
   "cell_type": "code",
   "execution_count": 1,
   "metadata": {},
   "outputs": [],
   "source": [
    "import requests\n",
    "import pyjq\n",
    "import numpy as np\n",
    "import pickle\n",
    "import operator"
   ]
  },
  {
   "cell_type": "code",
   "execution_count": 21,
   "metadata": {},
   "outputs": [],
   "source": [
    "key = 'dP30AyQMBVXRtUVey7AsU4sZfQM7RpOX'\n",
    "years = [2017, 2018]\n",
    "months = np.arange(11) + 1"
   ]
  },
  {
   "cell_type": "code",
   "execution_count": 22,
   "metadata": {
    "scrolled": true
   },
   "outputs": [
    {
     "name": "stdout",
     "output_type": "stream",
     "text": [
      "Get result from year: 2017, month: 1\n",
      "Added Values to the dic\n",
      "Get result from year: 2017, month: 2\n",
      "Added Values to the dic\n",
      "Get result from year: 2017, month: 3\n",
      "Added Values to the dic\n",
      "Get result from year: 2017, month: 4\n",
      "Added Values to the dic\n",
      "Get result from year: 2017, month: 5\n",
      "Added Values to the dic\n",
      "Get result from year: 2017, month: 6\n",
      "Added Values to the dic\n",
      "Get result from year: 2017, month: 7\n",
      "Added Values to the dic\n",
      "Get result from year: 2017, month: 8\n",
      "Added Values to the dic\n",
      "Get result from year: 2017, month: 9\n",
      "Added Values to the dic\n",
      "Get result from year: 2017, month: 10\n",
      "Added Values to the dic\n",
      "Get result from year: 2017, month: 11\n",
      "Added Values to the dic\n",
      "Get result from year: 2018, month: 1\n",
      "Added Values to the dic\n",
      "Get result from year: 2018, month: 2\n",
      "Added Values to the dic\n",
      "Get result from year: 2018, month: 3\n",
      "Added Values to the dic\n",
      "Get result from year: 2018, month: 4\n",
      "Added Values to the dic\n",
      "Get result from year: 2018, month: 5\n",
      "Added Values to the dic\n",
      "Get result from year: 2018, month: 6\n",
      "Added Values to the dic\n",
      "Get result from year: 2018, month: 7\n",
      "Added Values to the dic\n",
      "Get result from year: 2018, month: 8\n",
      "Added Values to the dic\n",
      "Get result from year: 2018, month: 9\n"
     ]
    },
    {
     "ename": "ScriptRuntimeError",
     "evalue": "Cannot iterate over null (null)",
     "output_type": "error",
     "traceback": [
      "\u001b[0;31m---------------------------------------------------------------------------\u001b[0m",
      "\u001b[0;31mScriptRuntimeError\u001b[0m                        Traceback (most recent call last)",
      "\u001b[0;32m<ipython-input-22-0624399e0307>\u001b[0m in \u001b[0;36m<module>\u001b[0;34m\u001b[0m\n\u001b[1;32m      8\u001b[0m         \u001b[0mprint\u001b[0m\u001b[0;34m(\u001b[0m\u001b[0;34m'Get result from year: %d, month: %d'\u001b[0m\u001b[0;34m%\u001b[0m\u001b[0;34m(\u001b[0m\u001b[0myear\u001b[0m\u001b[0;34m,\u001b[0m \u001b[0mmonth\u001b[0m\u001b[0;34m)\u001b[0m\u001b[0;34m)\u001b[0m\u001b[0;34m\u001b[0m\u001b[0;34m\u001b[0m\u001b[0m\n\u001b[1;32m      9\u001b[0m         \u001b[0mjq_query\u001b[0m \u001b[0;34m=\u001b[0m \u001b[0;34mf'.response .docs [] | {{the_snippet: .snippet, the_headline: .headline, the_keyword: .keywords}}'\u001b[0m\u001b[0;34m\u001b[0m\u001b[0;34m\u001b[0m\u001b[0m\n\u001b[0;32m---> 10\u001b[0;31m         \u001b[0moutput\u001b[0m \u001b[0;34m=\u001b[0m \u001b[0mpyjq\u001b[0m\u001b[0;34m.\u001b[0m\u001b[0mall\u001b[0m\u001b[0;34m(\u001b[0m\u001b[0mjq_query\u001b[0m\u001b[0;34m,\u001b[0m \u001b[0mdata\u001b[0m\u001b[0;34m)\u001b[0m\u001b[0;34m\u001b[0m\u001b[0;34m\u001b[0m\u001b[0m\n\u001b[0m\u001b[1;32m     11\u001b[0m \u001b[0;34m\u001b[0m\u001b[0m\n\u001b[1;32m     12\u001b[0m         \u001b[0;32mfor\u001b[0m \u001b[0mi\u001b[0m \u001b[0;32min\u001b[0m \u001b[0mrange\u001b[0m\u001b[0;34m(\u001b[0m\u001b[0mlen\u001b[0m\u001b[0;34m(\u001b[0m\u001b[0moutput\u001b[0m\u001b[0;34m)\u001b[0m\u001b[0;34m)\u001b[0m\u001b[0;34m:\u001b[0m\u001b[0;34m\u001b[0m\u001b[0;34m\u001b[0m\u001b[0m\n",
      "\u001b[0;32m/usr/local/lib/python3.7/site-packages/pyjq.py\u001b[0m in \u001b[0;36mall\u001b[0;34m(script, value, vars, url, opener, library_paths)\u001b[0m\n\u001b[1;32m     47\u001b[0m     \u001b[0mTransform\u001b[0m \u001b[0mvalue\u001b[0m \u001b[0mby\u001b[0m \u001b[0mscript\u001b[0m\u001b[0;34m,\u001b[0m \u001b[0mreturning\u001b[0m \u001b[0mall\u001b[0m \u001b[0mresults\u001b[0m \u001b[0;32mas\u001b[0m \u001b[0mlist\u001b[0m\u001b[0;34m.\u001b[0m\u001b[0;34m\u001b[0m\u001b[0;34m\u001b[0m\u001b[0m\n\u001b[1;32m     48\u001b[0m     \"\"\"\n\u001b[0;32m---> 49\u001b[0;31m     \u001b[0;32mreturn\u001b[0m \u001b[0mcompile\u001b[0m\u001b[0;34m(\u001b[0m\u001b[0mscript\u001b[0m\u001b[0;34m,\u001b[0m \u001b[0mvars\u001b[0m\u001b[0;34m,\u001b[0m \u001b[0mlibrary_paths\u001b[0m\u001b[0;34m)\u001b[0m\u001b[0;34m.\u001b[0m\u001b[0mall\u001b[0m\u001b[0;34m(\u001b[0m\u001b[0m_get_value\u001b[0m\u001b[0;34m(\u001b[0m\u001b[0mvalue\u001b[0m\u001b[0;34m,\u001b[0m \u001b[0murl\u001b[0m\u001b[0;34m,\u001b[0m \u001b[0mopener\u001b[0m\u001b[0;34m)\u001b[0m\u001b[0;34m)\u001b[0m\u001b[0;34m\u001b[0m\u001b[0;34m\u001b[0m\u001b[0m\n\u001b[0m\u001b[1;32m     50\u001b[0m \u001b[0;34m\u001b[0m\u001b[0m\n\u001b[1;32m     51\u001b[0m \u001b[0;34m\u001b[0m\u001b[0m\n",
      "\u001b[0;32m_pyjq.pyx\u001b[0m in \u001b[0;36m_pyjq.Script.all\u001b[0;34m()\u001b[0m\n",
      "\u001b[0;31mScriptRuntimeError\u001b[0m: Cannot iterate over null (null)"
     ]
    }
   ],
   "source": [
    "result_dict = {}\n",
    "for year in years:\n",
    "    for month in months:\n",
    "        url = 'https://api.nytimes.com/svc/archive/v1/%d/%d.json?api-key='%(year, month)\n",
    "        url += key\n",
    "        results = requests.get(url)\n",
    "        data = results.json()\n",
    "        print('Get result from year: %d, month: %d'%(year, month))\n",
    "        jq_query = f'.response .docs [] | {{the_snippet: .snippet, the_headline: .headline, the_keyword: .keywords}}'\n",
    "        output = pyjq.all(jq_query, data)\n",
    "\n",
    "        for i in range(len(output)):\n",
    "            if output[i]['the_snippet'] is None:\n",
    "                continue\n",
    "            if output[i]['the_headline']['main'] is not None:\n",
    "                val = output[i]['the_snippet'] + output[i]['the_headline']['main']\n",
    "            else:\n",
    "                val = output[i]['the_snippet']\n",
    "\n",
    "            for out in output[i]['the_keyword']:\n",
    "                if out['value'] in result_dict.keys():\n",
    "                    result_dict[out['value']].append(val)\n",
    "                else:\n",
    "                    result_dict[out['value']] = [val]\n",
    "        print(\"Added Values to the dic\")"
   ]
  },
  {
   "cell_type": "code",
   "execution_count": 2,
   "metadata": {},
   "outputs": [],
   "source": [
    "#pickle.dump(result_dict, open(\"nyt_archive_2017-18.p\", \"wb\")) # save the results\n",
    "data1 = pickle.load(open(\"data/nyt_archive_2016-75.p\", \"rb\"))\n",
    "data2 = pickle.load(open(\"data/nyt_archive_2019.p\", \"rb\"))\n",
    "data3 = pickle.load(open(\"data/nyt_archive_2017-18.p\", \"rb\"))\n",
    "data1.update(data2)\n",
    "data1.update(data3)"
   ]
  },
  {
   "cell_type": "code",
   "execution_count": 3,
   "metadata": {},
   "outputs": [],
   "source": [
    "# Check the top keywords:\n",
    "length = {key: len(value) for key, value in data1.items()}\n",
    "length = sorted(length.items(), key=operator.itemgetter(1), reverse=True)"
   ]
  },
  {
   "cell_type": "code",
   "execution_count": 11,
   "metadata": {},
   "outputs": [],
   "source": [
    "freq = {}\n",
    "for name, number in length[:100]:\n",
    "    freq[name] = number"
   ]
  },
  {
   "cell_type": "code",
   "execution_count": 12,
   "metadata": {},
   "outputs": [],
   "source": [
    "pickle.dump(freq, open(\"text_wordcloud.p\", \"wb\"))"
   ]
  },
  {
   "cell_type": "code",
   "execution_count": 33,
   "metadata": {},
   "outputs": [],
   "source": [
    "mapping = {\n",
    "'United States Politics and Government' : 'Politics',\n",
    "'Trump, Donald J' : ['Politics', 'Election'],\n",
    "'Politics and Government' : 'Politics',\n",
    "'Presidential Election of 2020' : 'Election',\n",
    "'Books and Literature' : ['Art', 'Media'],\n",
    "'Democratic Party' : ['Politics', 'Election'],\n",
    "'Movies' : ['Art', 'Media'],\n",
    "'New York City' : 'Economy',\n",
    "'United States International Relations' : 'Foreign Policy',\n",
    "'Television' : 'Media',\n",
    "'Women and Girls' : 'Gender',\n",
    "'Real Estate and Housing (Residential)' : 'Economy',\n",
    "'China' : 'Foreign Policy',\n",
    "'Art' : 'Art',\n",
    "'United States' : 'Politics',\n",
    "'Weddings and Engagements' : 'Other',\n",
    "'Deaths (Obituaries)' : 'Other',\n",
    "'Immigration and Emigration' : 'Immigration',\n",
    "'Blacks' : ['Immigration', 'Politics'],\n",
    "'Social Media' : 'Media',\n",
    "'Computers and the Internet' : 'Media',\n",
    "'Theater' : 'Media',\n",
    "'Discrimination' : ['Politics', 'Gender'],\n",
    "'House of Representatives' : 'Politics',\n",
    "'United States Defense and Military Forces' : 'Foreign Policy',\n",
    "'International Trade and World Market' : 'Economy',\n",
    "'Russian Interference in 2016 US Elections and Ties to Trump Associates' : 'Foreign Policy',\n",
    "'Demonstrations, Protests and Riots' : ['Politics', 'Violence'],\n",
    "'Great Britain' : ['Foreign Policy', 'Economy'],\n",
    "'Law and Legislation' : 'Politics',\n",
    "'United States Economy' : 'Economy',\n",
    "'Biden, Joseph R Jr' : 'Politics',\n",
    "'Race and Ethnicity' : ['Politics', 'Gender'],\n",
    "'Global Warming' : 'Climate',\n",
    "'Murders, Attempted Murders and Homicides' : 'Violence',\n",
    "'Travel and Vacations' : 'Other',\n",
    "'Baseball' : 'Sport',\n",
    "'Fashion and Apparel' : 'Fashion',\n",
    "'Sex Crimes' : ['Gender', 'Violence'],\n",
    "'Cooking and Cookbooks' : 'Other',\n",
    "'Defense and Military Forces' : 'Foreign Policy',\n",
    "'Terrorism' : 'Foreign Policy',\n",
    "'Pop and Rock Music' : ['Art', 'Media'],\n",
    "'Labor and Jobs' : 'Economy',\n",
    "'News and News Media' : 'Media',\n",
    "'Illegal Immigration' : ['Immigration', 'Foreign Policy'],\n",
    "'Children and Childhood' : 'Other',\n",
    "'Suits and Litigation (Civil)' : 'Politics',\n",
    "'Trump-Ukraine Whistle-blower Complaint and Impeachment Inquiry' : 'Politics',\n",
    "'Mueller, Robert S III' : 'Politics',\n",
    "'Elections' : 'Election',\n",
    "'California' : 'Economy',\n",
    "'Regulation and Deregulation of Industry' : 'Economy',\n",
    "'Restaurants' : 'Economy',\n",
    "'Basketball' : 'Sport',\n",
    "'Deaths (Fatalities)' : 'Violence',\n",
    "'Music' : 'Art',\n",
    "'Presidential Election of 2016' : 'Politics',\n",
    "'Dancing' : 'Art',\n",
    "'Economic Conditions and Trends' : 'Economy',\n",
    "'Impeachment' : 'Politics',\n",
    "'Homosexuality and Bisexuality' : 'Gender',\n",
    "'Football' : 'Sport',\n",
    "'Health Insurance and Managed Care' : ['Economy', 'Health'],\n",
    "'Tennis' : 'Sport',\n",
    "'Greenhouse Gas Emissions' : 'Climate',\n",
    "'Soccer' : 'Sport',\n",
    "'Sexual Harassment' : 'Gender',\n",
    "'Documentary Films and Programs' : 'Art',\n",
    "'Rap and Hip-Hop' : 'Art',\n",
    "'#MeToo Movement' : 'Gender',\n",
    "'Stocks and Bonds' : 'Economy',\n",
    "'Wages and Salaries' : 'Economy',\n",
    "'Environment' : 'Climate',\n",
    "'Income Inequality' : 'Economy',\n",
    "'Gun Control' : 'Violence',\n",
    " \"Women's Rights\" : 'Gender'}"
   ]
  },
  {
   "cell_type": "code",
   "execution_count": 34,
   "metadata": {},
   "outputs": [],
   "source": [
    "lumped_data = {}\n",
    "for key in data1.keys():\n",
    "    if key in mapping:\n",
    "        mapped_key = mapping[key]\n",
    "    else:\n",
    "        mapped_key = 'Other'\n",
    "    if type(mapped_key)==list:\n",
    "        for key_it in mapped_key:\n",
    "            if key_it in lumped_data.keys():\n",
    "                lumped_data[key_it].append(data1[key])\n",
    "            else:\n",
    "                lumped_data[key_it] = data1[key]\n",
    "    else:\n",
    "        if mapped_key in lumped_data.keys():\n",
    "            lumped_data[mapped_key].append(data1[key])\n",
    "        else:\n",
    "            lumped_data[mapped_key] = data1[key] "
   ]
  },
  {
   "cell_type": "code",
   "execution_count": 35,
   "metadata": {},
   "outputs": [],
   "source": [
    "# Check the top keywords:\n",
    "length = {key: len(value) for key, value in lumped_data.items()}\n",
    "length = sorted(length.items(), key=operator.itemgetter(1), reverse=True)"
   ]
  },
  {
   "cell_type": "code",
   "execution_count": 37,
   "metadata": {},
   "outputs": [],
   "source": [
    "for key in lumped_data.keys():\n",
    "    file = open('data/%s.txt'%(key), 'w')\n",
    "    for sentence in lumped_data[key]:\n",
    "        if type(sentence) == list:\n",
    "            sentence = sentence[0]\n",
    "        file.write(sentence+'\\n')\n",
    "    file.close()"
   ]
  },
  {
   "cell_type": "code",
   "execution_count": 39,
   "metadata": {},
   "outputs": [
    {
     "data": {
      "text/plain": [
       "[('Other', 193203),\n",
       " ('Politics', 15734),\n",
       " ('Election', 15734),\n",
       " ('Media', 4468),\n",
       " ('Fashion', 2270),\n",
       " ('Foreign Policy', 2205),\n",
       " ('Immigration', 1739),\n",
       " ('Economy', 1629),\n",
       " ('Health', 1434),\n",
       " ('Art', 1235),\n",
       " ('Gender', 1068),\n",
       " ('Sport', 951),\n",
       " ('Violence', 766),\n",
       " ('Climate', 574)]"
      ]
     },
     "execution_count": 39,
     "metadata": {},
     "output_type": "execute_result"
    }
   ],
   "source": [
    "length"
   ]
  },
  {
   "cell_type": "code",
   "execution_count": null,
   "metadata": {},
   "outputs": [],
   "source": []
  }
 ],
 "metadata": {
  "kernelspec": {
   "display_name": "Python 3",
   "language": "python",
   "name": "python3"
  },
  "language_info": {
   "codemirror_mode": {
    "name": "ipython",
    "version": 3
   },
   "file_extension": ".py",
   "mimetype": "text/x-python",
   "name": "python",
   "nbconvert_exporter": "python",
   "pygments_lexer": "ipython3",
   "version": "3.7.3"
  }
 },
 "nbformat": 4,
 "nbformat_minor": 2
}
